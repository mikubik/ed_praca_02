{
 "cells": [
  {
   "cell_type": "markdown",
   "metadata": {},
   "source": [
    "# Który klient linii lotniczych jest zadowolony?\n",
    "### Praca w ramach przedmiotu Eksploracja danych - przygotowanie danych do modelu ML"
   ]
  },
  {
   "cell_type": "markdown",
   "metadata": {},
   "source": [
    "# Przedstawienie danych"
   ]
  },
  {
   "cell_type": "code",
   "execution_count": 1,
   "metadata": {},
   "outputs": [],
   "source": [
    "import pandas as pd\n",
    "import numpy as np\n",
    "import matplotlib.pyplot as plt\n",
    "import seaborn as sns\n",
    "\n",
    "import warnings\n",
    "warnings.simplefilter('ignore')"
   ]
  },
  {
   "cell_type": "code",
   "execution_count": 2,
   "metadata": {
    "scrolled": true
   },
   "outputs": [
    {
     "data": {
      "text/html": [
       "<div>\n",
       "<style scoped>\n",
       "    .dataframe tbody tr th:only-of-type {\n",
       "        vertical-align: middle;\n",
       "    }\n",
       "\n",
       "    .dataframe tbody tr th {\n",
       "        vertical-align: top;\n",
       "    }\n",
       "\n",
       "    .dataframe thead th {\n",
       "        text-align: right;\n",
       "    }\n",
       "</style>\n",
       "<table border=\"1\" class=\"dataframe\">\n",
       "  <thead>\n",
       "    <tr style=\"text-align: right;\">\n",
       "      <th></th>\n",
       "      <th>Unnamed: 0</th>\n",
       "      <th>id</th>\n",
       "      <th>day</th>\n",
       "      <th>airline</th>\n",
       "      <th>destination</th>\n",
       "      <th>dest_region</th>\n",
       "      <th>dest_size</th>\n",
       "      <th>boarding_area</th>\n",
       "      <th>dept_time</th>\n",
       "      <th>wait_min</th>\n",
       "      <th>no_pass</th>\n",
       "      <th>cleanliness</th>\n",
       "      <th>safety</th>\n",
       "      <th>satisfaction</th>\n",
       "    </tr>\n",
       "  </thead>\n",
       "  <tbody>\n",
       "    <tr>\n",
       "      <th>0</th>\n",
       "      <td>0</td>\n",
       "      <td>1351</td>\n",
       "      <td>Tuesday</td>\n",
       "      <td>UNITED INTL</td>\n",
       "      <td>KANSAI</td>\n",
       "      <td>Asia</td>\n",
       "      <td>Hub</td>\n",
       "      <td>Gates 91-102</td>\n",
       "      <td>31.12.2018</td>\n",
       "      <td>115.0</td>\n",
       "      <td>123.0</td>\n",
       "      <td>Clean</td>\n",
       "      <td>Neutral</td>\n",
       "      <td>1</td>\n",
       "    </tr>\n",
       "    <tr>\n",
       "      <th>1</th>\n",
       "      <td>1</td>\n",
       "      <td>373</td>\n",
       "      <td>Friday</td>\n",
       "      <td>ALASKA</td>\n",
       "      <td>SAN JOSE DEL CABO</td>\n",
       "      <td>Canada/Mexico</td>\n",
       "      <td>Small</td>\n",
       "      <td>Gates 50-59</td>\n",
       "      <td>31.12.2018</td>\n",
       "      <td>135.0</td>\n",
       "      <td>177.0</td>\n",
       "      <td>Clean</td>\n",
       "      <td>Very safe</td>\n",
       "      <td>1</td>\n",
       "    </tr>\n",
       "    <tr>\n",
       "      <th>2</th>\n",
       "      <td>2</td>\n",
       "      <td>2820</td>\n",
       "      <td>Thursday</td>\n",
       "      <td>DELTA</td>\n",
       "      <td>LOS ANGELES</td>\n",
       "      <td>West US</td>\n",
       "      <td>Hub</td>\n",
       "      <td>Gates 40-48</td>\n",
       "      <td>31.12.2018</td>\n",
       "      <td>70.0</td>\n",
       "      <td>282.0</td>\n",
       "      <td>Average</td>\n",
       "      <td>Somewhat safe</td>\n",
       "      <td>0</td>\n",
       "    </tr>\n",
       "    <tr>\n",
       "      <th>3</th>\n",
       "      <td>3</td>\n",
       "      <td>1157</td>\n",
       "      <td>Tuesday</td>\n",
       "      <td>SOUTHWEST</td>\n",
       "      <td>LOS ANGELES</td>\n",
       "      <td>West US</td>\n",
       "      <td>Hub</td>\n",
       "      <td>Gates 20-39</td>\n",
       "      <td>31.12.2018</td>\n",
       "      <td>190.0</td>\n",
       "      <td>126.0</td>\n",
       "      <td>Clean</td>\n",
       "      <td>Very safe</td>\n",
       "      <td>1</td>\n",
       "    </tr>\n",
       "    <tr>\n",
       "      <th>4</th>\n",
       "      <td>4</td>\n",
       "      <td>2992</td>\n",
       "      <td>Wednesday</td>\n",
       "      <td>AMERICAN</td>\n",
       "      <td>MIAMI</td>\n",
       "      <td>East US</td>\n",
       "      <td>Hub</td>\n",
       "      <td>Gates 50-59</td>\n",
       "      <td>31.12.2018</td>\n",
       "      <td>559.0</td>\n",
       "      <td>142.0</td>\n",
       "      <td>Somewhat clean</td>\n",
       "      <td>Very safe</td>\n",
       "      <td>1</td>\n",
       "    </tr>\n",
       "    <tr>\n",
       "      <th>5</th>\n",
       "      <td>5</td>\n",
       "      <td>634</td>\n",
       "      <td>Thursday</td>\n",
       "      <td>ALASKA</td>\n",
       "      <td>NEWARK</td>\n",
       "      <td>East US</td>\n",
       "      <td>Hub</td>\n",
       "      <td>Gates 50-59</td>\n",
       "      <td>31.12.2018</td>\n",
       "      <td>140.0</td>\n",
       "      <td>193.0</td>\n",
       "      <td>Somewhat clean</td>\n",
       "      <td>Very safe</td>\n",
       "      <td>1</td>\n",
       "    </tr>\n",
       "    <tr>\n",
       "      <th>6</th>\n",
       "      <td>6</td>\n",
       "      <td>2578</td>\n",
       "      <td>Saturday</td>\n",
       "      <td>JETBLUE</td>\n",
       "      <td>LONG BEACH</td>\n",
       "      <td>West US</td>\n",
       "      <td>Small</td>\n",
       "      <td>Gates 1-12</td>\n",
       "      <td>31.12.2018</td>\n",
       "      <td>63.0</td>\n",
       "      <td>256.0</td>\n",
       "      <td>Clean</td>\n",
       "      <td>Very safe</td>\n",
       "      <td>1</td>\n",
       "    </tr>\n",
       "    <tr>\n",
       "      <th>7</th>\n",
       "      <td>8</td>\n",
       "      <td>2592</td>\n",
       "      <td>Saturday</td>\n",
       "      <td>AEROMEXICO</td>\n",
       "      <td>MEXICO CITY</td>\n",
       "      <td>Canada/Mexico</td>\n",
       "      <td>Hub</td>\n",
       "      <td>Gates 1-12</td>\n",
       "      <td>31.12.2018</td>\n",
       "      <td>215.0</td>\n",
       "      <td>156.0</td>\n",
       "      <td>Somewhat clean</td>\n",
       "      <td>Very safe</td>\n",
       "      <td>0</td>\n",
       "    </tr>\n",
       "    <tr>\n",
       "      <th>8</th>\n",
       "      <td>9</td>\n",
       "      <td>919</td>\n",
       "      <td>Friday</td>\n",
       "      <td>AIR CANADA</td>\n",
       "      <td>TORONTO</td>\n",
       "      <td>Canada/Mexico</td>\n",
       "      <td>Hub</td>\n",
       "      <td>Gates 91-102</td>\n",
       "      <td>31.12.2018</td>\n",
       "      <td>70.0</td>\n",
       "      <td>141.0</td>\n",
       "      <td>Somewhat clean</td>\n",
       "      <td>Somewhat safe</td>\n",
       "      <td>1</td>\n",
       "    </tr>\n",
       "    <tr>\n",
       "      <th>9</th>\n",
       "      <td>10</td>\n",
       "      <td>3028</td>\n",
       "      <td>Tuesday</td>\n",
       "      <td>UNITED</td>\n",
       "      <td>PORTLAND</td>\n",
       "      <td>West US</td>\n",
       "      <td>Medium</td>\n",
       "      <td>Gates 70-90</td>\n",
       "      <td>31.12.2018</td>\n",
       "      <td>180.0</td>\n",
       "      <td>198.0</td>\n",
       "      <td>Average</td>\n",
       "      <td>Very safe</td>\n",
       "      <td>0</td>\n",
       "    </tr>\n",
       "  </tbody>\n",
       "</table>\n",
       "</div>"
      ],
      "text/plain": [
       "   Unnamed: 0    id        day      airline        destination    dest_region  \\\n",
       "0           0  1351    Tuesday  UNITED INTL             KANSAI           Asia   \n",
       "1           1   373     Friday       ALASKA  SAN JOSE DEL CABO  Canada/Mexico   \n",
       "2           2  2820   Thursday        DELTA        LOS ANGELES        West US   \n",
       "3           3  1157    Tuesday    SOUTHWEST        LOS ANGELES        West US   \n",
       "4           4  2992  Wednesday     AMERICAN              MIAMI        East US   \n",
       "5           5   634   Thursday       ALASKA             NEWARK        East US   \n",
       "6           6  2578   Saturday      JETBLUE         LONG BEACH        West US   \n",
       "7           8  2592   Saturday   AEROMEXICO        MEXICO CITY  Canada/Mexico   \n",
       "8           9   919     Friday   AIR CANADA            TORONTO  Canada/Mexico   \n",
       "9          10  3028    Tuesday       UNITED           PORTLAND        West US   \n",
       "\n",
       "  dest_size boarding_area   dept_time  wait_min  no_pass     cleanliness  \\\n",
       "0       Hub  Gates 91-102  31.12.2018     115.0    123.0           Clean   \n",
       "1     Small   Gates 50-59  31.12.2018     135.0    177.0           Clean   \n",
       "2       Hub   Gates 40-48  31.12.2018      70.0    282.0         Average   \n",
       "3       Hub   Gates 20-39  31.12.2018     190.0    126.0           Clean   \n",
       "4       Hub   Gates 50-59  31.12.2018     559.0    142.0  Somewhat clean   \n",
       "5       Hub   Gates 50-59  31.12.2018     140.0    193.0  Somewhat clean   \n",
       "6     Small    Gates 1-12  31.12.2018      63.0    256.0           Clean   \n",
       "7       Hub    Gates 1-12  31.12.2018     215.0    156.0  Somewhat clean   \n",
       "8       Hub  Gates 91-102  31.12.2018      70.0    141.0  Somewhat clean   \n",
       "9    Medium   Gates 70-90  31.12.2018     180.0    198.0         Average   \n",
       "\n",
       "          safety  satisfaction  \n",
       "0        Neutral             1  \n",
       "1      Very safe             1  \n",
       "2  Somewhat safe             0  \n",
       "3      Very safe             1  \n",
       "4      Very safe             1  \n",
       "5      Very safe             1  \n",
       "6      Very safe             1  \n",
       "7      Very safe             0  \n",
       "8  Somewhat safe             1  \n",
       "9      Very safe             0  "
      ]
     },
     "execution_count": 2,
     "metadata": {},
     "output_type": "execute_result"
    }
   ],
   "source": [
    "df = pd.read_csv('airlines.csv', sep=';')\n",
    "df.head(10)"
   ]
  },
  {
   "cell_type": "markdown",
   "metadata": {},
   "source": [
    "Zmienną celu jest satisfaction. Około 79% klientów jest zadowolonych ze swojego lotu."
   ]
  },
  {
   "cell_type": "code",
   "execution_count": 3,
   "metadata": {},
   "outputs": [
    {
     "data": {
      "text/html": [
       "<div>\n",
       "<style scoped>\n",
       "    .dataframe tbody tr th:only-of-type {\n",
       "        vertical-align: middle;\n",
       "    }\n",
       "\n",
       "    .dataframe tbody tr th {\n",
       "        vertical-align: top;\n",
       "    }\n",
       "\n",
       "    .dataframe thead th {\n",
       "        text-align: right;\n",
       "    }\n",
       "</style>\n",
       "<table border=\"1\" class=\"dataframe\">\n",
       "  <thead>\n",
       "    <tr style=\"text-align: right;\">\n",
       "      <th></th>\n",
       "      <th>Unnamed: 0</th>\n",
       "      <th>id</th>\n",
       "      <th>wait_min</th>\n",
       "      <th>no_pass</th>\n",
       "      <th>satisfaction</th>\n",
       "    </tr>\n",
       "  </thead>\n",
       "  <tbody>\n",
       "    <tr>\n",
       "      <th>count</th>\n",
       "      <td>2477.000000</td>\n",
       "      <td>2477.000000</td>\n",
       "      <td>2150.000000</td>\n",
       "      <td>2473.000000</td>\n",
       "      <td>2477.000000</td>\n",
       "    </tr>\n",
       "    <tr>\n",
       "      <th>mean</th>\n",
       "      <td>1411.785224</td>\n",
       "      <td>1813.363746</td>\n",
       "      <td>166.534865</td>\n",
       "      <td>200.585524</td>\n",
       "      <td>0.785224</td>\n",
       "    </tr>\n",
       "    <tr>\n",
       "      <th>std</th>\n",
       "      <td>815.300508</td>\n",
       "      <td>945.226305</td>\n",
       "      <td>107.052209</td>\n",
       "      <td>57.973128</td>\n",
       "      <td>0.410750</td>\n",
       "    </tr>\n",
       "    <tr>\n",
       "      <th>min</th>\n",
       "      <td>0.000000</td>\n",
       "      <td>1.000000</td>\n",
       "      <td>15.000000</td>\n",
       "      <td>100.000000</td>\n",
       "      <td>0.000000</td>\n",
       "    </tr>\n",
       "    <tr>\n",
       "      <th>25%</th>\n",
       "      <td>709.000000</td>\n",
       "      <td>1038.000000</td>\n",
       "      <td>105.000000</td>\n",
       "      <td>150.000000</td>\n",
       "      <td>1.000000</td>\n",
       "    </tr>\n",
       "    <tr>\n",
       "      <th>50%</th>\n",
       "      <td>1414.000000</td>\n",
       "      <td>1859.000000</td>\n",
       "      <td>145.000000</td>\n",
       "      <td>201.000000</td>\n",
       "      <td>1.000000</td>\n",
       "    </tr>\n",
       "    <tr>\n",
       "      <th>75%</th>\n",
       "      <td>2122.000000</td>\n",
       "      <td>2581.000000</td>\n",
       "      <td>190.000000</td>\n",
       "      <td>252.000000</td>\n",
       "      <td>1.000000</td>\n",
       "    </tr>\n",
       "    <tr>\n",
       "      <th>max</th>\n",
       "      <td>2808.000000</td>\n",
       "      <td>9004.000000</td>\n",
       "      <td>1210.000000</td>\n",
       "      <td>300.000000</td>\n",
       "      <td>1.000000</td>\n",
       "    </tr>\n",
       "  </tbody>\n",
       "</table>\n",
       "</div>"
      ],
      "text/plain": [
       "        Unnamed: 0           id     wait_min      no_pass  satisfaction\n",
       "count  2477.000000  2477.000000  2150.000000  2473.000000   2477.000000\n",
       "mean   1411.785224  1813.363746   166.534865   200.585524      0.785224\n",
       "std     815.300508   945.226305   107.052209    57.973128      0.410750\n",
       "min       0.000000     1.000000    15.000000   100.000000      0.000000\n",
       "25%     709.000000  1038.000000   105.000000   150.000000      1.000000\n",
       "50%    1414.000000  1859.000000   145.000000   201.000000      1.000000\n",
       "75%    2122.000000  2581.000000   190.000000   252.000000      1.000000\n",
       "max    2808.000000  9004.000000  1210.000000   300.000000      1.000000"
      ]
     },
     "execution_count": 3,
     "metadata": {},
     "output_type": "execute_result"
    }
   ],
   "source": [
    "df.describe()"
   ]
  },
  {
   "cell_type": "markdown",
   "metadata": {},
   "source": [
    "Widzimy, że niektóry kolumny zawierają brakujące wartości, którymi zajmiemy się wkrótce."
   ]
  },
  {
   "cell_type": "code",
   "execution_count": 4,
   "metadata": {
    "scrolled": true
   },
   "outputs": [
    {
     "name": "stdout",
     "output_type": "stream",
     "text": [
      "<class 'pandas.core.frame.DataFrame'>\n",
      "RangeIndex: 2477 entries, 0 to 2476\n",
      "Data columns (total 14 columns):\n",
      " #   Column         Non-Null Count  Dtype  \n",
      "---  ------         --------------  -----  \n",
      " 0   Unnamed: 0     2477 non-null   int64  \n",
      " 1   id             2477 non-null   int64  \n",
      " 2   day            2477 non-null   object \n",
      " 3   airline        2477 non-null   object \n",
      " 4   destination    2477 non-null   object \n",
      " 5   dest_region    2477 non-null   object \n",
      " 6   dest_size      2477 non-null   object \n",
      " 7   boarding_area  2477 non-null   object \n",
      " 8   dept_time      2477 non-null   object \n",
      " 9   wait_min       2150 non-null   float64\n",
      " 10  no_pass        2473 non-null   float64\n",
      " 11  cleanliness    2477 non-null   object \n",
      " 12  safety         2477 non-null   object \n",
      " 13  satisfaction   2477 non-null   int64  \n",
      "dtypes: float64(2), int64(3), object(9)\n",
      "memory usage: 271.0+ KB\n"
     ]
    }
   ],
   "source": [
    "df.info()"
   ]
  },
  {
   "cell_type": "code",
   "execution_count": 5,
   "metadata": {},
   "outputs": [],
   "source": [
    "# Tworzymy zmienną celu\n",
    "\n",
    "y = df.satisfaction\n",
    "X = df.drop('satisfaction', axis=1)"
   ]
  },
  {
   "cell_type": "code",
   "execution_count": 6,
   "metadata": {},
   "outputs": [
    {
     "data": {
      "text/html": [
       "<div>\n",
       "<style scoped>\n",
       "    .dataframe tbody tr th:only-of-type {\n",
       "        vertical-align: middle;\n",
       "    }\n",
       "\n",
       "    .dataframe tbody tr th {\n",
       "        vertical-align: top;\n",
       "    }\n",
       "\n",
       "    .dataframe thead th {\n",
       "        text-align: right;\n",
       "    }\n",
       "</style>\n",
       "<table border=\"1\" class=\"dataframe\">\n",
       "  <thead>\n",
       "    <tr style=\"text-align: right;\">\n",
       "      <th></th>\n",
       "      <th>Unnamed: 0</th>\n",
       "      <th>id</th>\n",
       "      <th>day</th>\n",
       "      <th>airline</th>\n",
       "      <th>destination</th>\n",
       "      <th>dest_region</th>\n",
       "      <th>dest_size</th>\n",
       "      <th>boarding_area</th>\n",
       "      <th>dept_time</th>\n",
       "      <th>wait_min</th>\n",
       "      <th>no_pass</th>\n",
       "      <th>cleanliness</th>\n",
       "      <th>safety</th>\n",
       "    </tr>\n",
       "  </thead>\n",
       "  <tbody>\n",
       "    <tr>\n",
       "      <th>0</th>\n",
       "      <td>0</td>\n",
       "      <td>1351</td>\n",
       "      <td>Tuesday</td>\n",
       "      <td>UNITED INTL</td>\n",
       "      <td>KANSAI</td>\n",
       "      <td>Asia</td>\n",
       "      <td>Hub</td>\n",
       "      <td>Gates 91-102</td>\n",
       "      <td>31.12.2018</td>\n",
       "      <td>115.0</td>\n",
       "      <td>123.0</td>\n",
       "      <td>Clean</td>\n",
       "      <td>Neutral</td>\n",
       "    </tr>\n",
       "    <tr>\n",
       "      <th>1</th>\n",
       "      <td>1</td>\n",
       "      <td>373</td>\n",
       "      <td>Friday</td>\n",
       "      <td>ALASKA</td>\n",
       "      <td>SAN JOSE DEL CABO</td>\n",
       "      <td>Canada/Mexico</td>\n",
       "      <td>Small</td>\n",
       "      <td>Gates 50-59</td>\n",
       "      <td>31.12.2018</td>\n",
       "      <td>135.0</td>\n",
       "      <td>177.0</td>\n",
       "      <td>Clean</td>\n",
       "      <td>Very safe</td>\n",
       "    </tr>\n",
       "    <tr>\n",
       "      <th>2</th>\n",
       "      <td>2</td>\n",
       "      <td>2820</td>\n",
       "      <td>Thursday</td>\n",
       "      <td>DELTA</td>\n",
       "      <td>LOS ANGELES</td>\n",
       "      <td>West US</td>\n",
       "      <td>Hub</td>\n",
       "      <td>Gates 40-48</td>\n",
       "      <td>31.12.2018</td>\n",
       "      <td>70.0</td>\n",
       "      <td>282.0</td>\n",
       "      <td>Average</td>\n",
       "      <td>Somewhat safe</td>\n",
       "    </tr>\n",
       "    <tr>\n",
       "      <th>3</th>\n",
       "      <td>3</td>\n",
       "      <td>1157</td>\n",
       "      <td>Tuesday</td>\n",
       "      <td>SOUTHWEST</td>\n",
       "      <td>LOS ANGELES</td>\n",
       "      <td>West US</td>\n",
       "      <td>Hub</td>\n",
       "      <td>Gates 20-39</td>\n",
       "      <td>31.12.2018</td>\n",
       "      <td>190.0</td>\n",
       "      <td>126.0</td>\n",
       "      <td>Clean</td>\n",
       "      <td>Very safe</td>\n",
       "    </tr>\n",
       "    <tr>\n",
       "      <th>4</th>\n",
       "      <td>4</td>\n",
       "      <td>2992</td>\n",
       "      <td>Wednesday</td>\n",
       "      <td>AMERICAN</td>\n",
       "      <td>MIAMI</td>\n",
       "      <td>East US</td>\n",
       "      <td>Hub</td>\n",
       "      <td>Gates 50-59</td>\n",
       "      <td>31.12.2018</td>\n",
       "      <td>559.0</td>\n",
       "      <td>142.0</td>\n",
       "      <td>Somewhat clean</td>\n",
       "      <td>Very safe</td>\n",
       "    </tr>\n",
       "  </tbody>\n",
       "</table>\n",
       "</div>"
      ],
      "text/plain": [
       "   Unnamed: 0    id        day      airline        destination    dest_region  \\\n",
       "0           0  1351    Tuesday  UNITED INTL             KANSAI           Asia   \n",
       "1           1   373     Friday       ALASKA  SAN JOSE DEL CABO  Canada/Mexico   \n",
       "2           2  2820   Thursday        DELTA        LOS ANGELES        West US   \n",
       "3           3  1157    Tuesday    SOUTHWEST        LOS ANGELES        West US   \n",
       "4           4  2992  Wednesday     AMERICAN              MIAMI        East US   \n",
       "\n",
       "  dest_size boarding_area   dept_time  wait_min  no_pass     cleanliness  \\\n",
       "0       Hub  Gates 91-102  31.12.2018     115.0    123.0           Clean   \n",
       "1     Small   Gates 50-59  31.12.2018     135.0    177.0           Clean   \n",
       "2       Hub   Gates 40-48  31.12.2018      70.0    282.0         Average   \n",
       "3       Hub   Gates 20-39  31.12.2018     190.0    126.0           Clean   \n",
       "4       Hub   Gates 50-59  31.12.2018     559.0    142.0  Somewhat clean   \n",
       "\n",
       "          safety  \n",
       "0        Neutral  \n",
       "1      Very safe  \n",
       "2  Somewhat safe  \n",
       "3      Very safe  \n",
       "4      Very safe  "
      ]
     },
     "execution_count": 6,
     "metadata": {},
     "output_type": "execute_result"
    }
   ],
   "source": [
    "X.head()"
   ]
  },
  {
   "cell_type": "code",
   "execution_count": 7,
   "metadata": {},
   "outputs": [
    {
     "data": {
      "text/plain": [
       "0    1\n",
       "1    1\n",
       "2    0\n",
       "3    1\n",
       "4    1\n",
       "Name: satisfaction, dtype: int64"
      ]
     },
     "execution_count": 7,
     "metadata": {},
     "output_type": "execute_result"
    }
   ],
   "source": [
    "y.head()"
   ]
  },
  {
   "cell_type": "markdown",
   "metadata": {},
   "source": [
    "# Czyszczenie danych\n",
    "Każde id jest inne, a dept_time ma tylko dwie wartości (z czego 1 stycznia stanowi jakiś 1% datasetu), więc pozbywam się obydwu kolumn z datasetu. Nie będą one miały znaczącego wpływu przy użyciu modelu ML. Podobnie usuwam też zaśmiecającą kolumnę Unnamed: 0."
   ]
  },
  {
   "cell_type": "code",
   "execution_count": 8,
   "metadata": {
    "scrolled": true
   },
   "outputs": [
    {
     "data": {
      "text/plain": [
       "1351    1\n",
       "909     1\n",
       "826     1\n",
       "2657    1\n",
       "2781    1\n",
       "       ..\n",
       "2955    1\n",
       "1803    1\n",
       "1231    1\n",
       "2256    1\n",
       "2162    1\n",
       "Name: id, Length: 2477, dtype: int64"
      ]
     },
     "execution_count": 8,
     "metadata": {},
     "output_type": "execute_result"
    }
   ],
   "source": [
    "X['id'].value_counts()"
   ]
  },
  {
   "cell_type": "code",
   "execution_count": 9,
   "metadata": {},
   "outputs": [
    {
     "data": {
      "text/plain": [
       "31.12.2018    2440\n",
       "01.01.2018      37\n",
       "Name: dept_time, dtype: int64"
      ]
     },
     "execution_count": 9,
     "metadata": {},
     "output_type": "execute_result"
    }
   ],
   "source": [
    "X['dept_time'].value_counts()"
   ]
  },
  {
   "cell_type": "code",
   "execution_count": 10,
   "metadata": {
    "scrolled": true
   },
   "outputs": [],
   "source": [
    "X.drop(['id'],axis=1,inplace=True)\n",
    "X.drop(['dept_time'],axis=1,inplace=True)\n",
    "X.drop(['Unnamed: 0'],axis=1,inplace=True)"
   ]
  },
  {
   "cell_type": "code",
   "execution_count": 11,
   "metadata": {},
   "outputs": [
    {
     "data": {
      "text/html": [
       "<div>\n",
       "<style scoped>\n",
       "    .dataframe tbody tr th:only-of-type {\n",
       "        vertical-align: middle;\n",
       "    }\n",
       "\n",
       "    .dataframe tbody tr th {\n",
       "        vertical-align: top;\n",
       "    }\n",
       "\n",
       "    .dataframe thead th {\n",
       "        text-align: right;\n",
       "    }\n",
       "</style>\n",
       "<table border=\"1\" class=\"dataframe\">\n",
       "  <thead>\n",
       "    <tr style=\"text-align: right;\">\n",
       "      <th></th>\n",
       "      <th>day</th>\n",
       "      <th>airline</th>\n",
       "      <th>destination</th>\n",
       "      <th>dest_region</th>\n",
       "      <th>dest_size</th>\n",
       "      <th>boarding_area</th>\n",
       "      <th>wait_min</th>\n",
       "      <th>no_pass</th>\n",
       "      <th>cleanliness</th>\n",
       "      <th>safety</th>\n",
       "    </tr>\n",
       "  </thead>\n",
       "  <tbody>\n",
       "    <tr>\n",
       "      <th>0</th>\n",
       "      <td>Tuesday</td>\n",
       "      <td>UNITED INTL</td>\n",
       "      <td>KANSAI</td>\n",
       "      <td>Asia</td>\n",
       "      <td>Hub</td>\n",
       "      <td>Gates 91-102</td>\n",
       "      <td>115.0</td>\n",
       "      <td>123.0</td>\n",
       "      <td>Clean</td>\n",
       "      <td>Neutral</td>\n",
       "    </tr>\n",
       "    <tr>\n",
       "      <th>1</th>\n",
       "      <td>Friday</td>\n",
       "      <td>ALASKA</td>\n",
       "      <td>SAN JOSE DEL CABO</td>\n",
       "      <td>Canada/Mexico</td>\n",
       "      <td>Small</td>\n",
       "      <td>Gates 50-59</td>\n",
       "      <td>135.0</td>\n",
       "      <td>177.0</td>\n",
       "      <td>Clean</td>\n",
       "      <td>Very safe</td>\n",
       "    </tr>\n",
       "    <tr>\n",
       "      <th>2</th>\n",
       "      <td>Thursday</td>\n",
       "      <td>DELTA</td>\n",
       "      <td>LOS ANGELES</td>\n",
       "      <td>West US</td>\n",
       "      <td>Hub</td>\n",
       "      <td>Gates 40-48</td>\n",
       "      <td>70.0</td>\n",
       "      <td>282.0</td>\n",
       "      <td>Average</td>\n",
       "      <td>Somewhat safe</td>\n",
       "    </tr>\n",
       "    <tr>\n",
       "      <th>3</th>\n",
       "      <td>Tuesday</td>\n",
       "      <td>SOUTHWEST</td>\n",
       "      <td>LOS ANGELES</td>\n",
       "      <td>West US</td>\n",
       "      <td>Hub</td>\n",
       "      <td>Gates 20-39</td>\n",
       "      <td>190.0</td>\n",
       "      <td>126.0</td>\n",
       "      <td>Clean</td>\n",
       "      <td>Very safe</td>\n",
       "    </tr>\n",
       "    <tr>\n",
       "      <th>4</th>\n",
       "      <td>Wednesday</td>\n",
       "      <td>AMERICAN</td>\n",
       "      <td>MIAMI</td>\n",
       "      <td>East US</td>\n",
       "      <td>Hub</td>\n",
       "      <td>Gates 50-59</td>\n",
       "      <td>559.0</td>\n",
       "      <td>142.0</td>\n",
       "      <td>Somewhat clean</td>\n",
       "      <td>Very safe</td>\n",
       "    </tr>\n",
       "    <tr>\n",
       "      <th>5</th>\n",
       "      <td>Thursday</td>\n",
       "      <td>ALASKA</td>\n",
       "      <td>NEWARK</td>\n",
       "      <td>East US</td>\n",
       "      <td>Hub</td>\n",
       "      <td>Gates 50-59</td>\n",
       "      <td>140.0</td>\n",
       "      <td>193.0</td>\n",
       "      <td>Somewhat clean</td>\n",
       "      <td>Very safe</td>\n",
       "    </tr>\n",
       "    <tr>\n",
       "      <th>6</th>\n",
       "      <td>Saturday</td>\n",
       "      <td>JETBLUE</td>\n",
       "      <td>LONG BEACH</td>\n",
       "      <td>West US</td>\n",
       "      <td>Small</td>\n",
       "      <td>Gates 1-12</td>\n",
       "      <td>63.0</td>\n",
       "      <td>256.0</td>\n",
       "      <td>Clean</td>\n",
       "      <td>Very safe</td>\n",
       "    </tr>\n",
       "    <tr>\n",
       "      <th>7</th>\n",
       "      <td>Saturday</td>\n",
       "      <td>AEROMEXICO</td>\n",
       "      <td>MEXICO CITY</td>\n",
       "      <td>Canada/Mexico</td>\n",
       "      <td>Hub</td>\n",
       "      <td>Gates 1-12</td>\n",
       "      <td>215.0</td>\n",
       "      <td>156.0</td>\n",
       "      <td>Somewhat clean</td>\n",
       "      <td>Very safe</td>\n",
       "    </tr>\n",
       "    <tr>\n",
       "      <th>8</th>\n",
       "      <td>Friday</td>\n",
       "      <td>AIR CANADA</td>\n",
       "      <td>TORONTO</td>\n",
       "      <td>Canada/Mexico</td>\n",
       "      <td>Hub</td>\n",
       "      <td>Gates 91-102</td>\n",
       "      <td>70.0</td>\n",
       "      <td>141.0</td>\n",
       "      <td>Somewhat clean</td>\n",
       "      <td>Somewhat safe</td>\n",
       "    </tr>\n",
       "    <tr>\n",
       "      <th>9</th>\n",
       "      <td>Tuesday</td>\n",
       "      <td>UNITED</td>\n",
       "      <td>PORTLAND</td>\n",
       "      <td>West US</td>\n",
       "      <td>Medium</td>\n",
       "      <td>Gates 70-90</td>\n",
       "      <td>180.0</td>\n",
       "      <td>198.0</td>\n",
       "      <td>Average</td>\n",
       "      <td>Very safe</td>\n",
       "    </tr>\n",
       "    <tr>\n",
       "      <th>10</th>\n",
       "      <td>Tuesday</td>\n",
       "      <td>SOUTHWEST</td>\n",
       "      <td>SAN DIEGO</td>\n",
       "      <td>West US</td>\n",
       "      <td>Medium</td>\n",
       "      <td>Gates 20-39</td>\n",
       "      <td>540.0</td>\n",
       "      <td>142.0</td>\n",
       "      <td>Clean</td>\n",
       "      <td>Very safe</td>\n",
       "    </tr>\n",
       "    <tr>\n",
       "      <th>11</th>\n",
       "      <td>Saturday</td>\n",
       "      <td>JETBLUE</td>\n",
       "      <td>BOSTON</td>\n",
       "      <td>East US</td>\n",
       "      <td>Large</td>\n",
       "      <td>Gates 1-12</td>\n",
       "      <td>192.0</td>\n",
       "      <td>249.0</td>\n",
       "      <td>Somewhat clean</td>\n",
       "      <td>Very safe</td>\n",
       "    </tr>\n",
       "    <tr>\n",
       "      <th>12</th>\n",
       "      <td>Tuesday</td>\n",
       "      <td>UNITED</td>\n",
       "      <td>SPOKANE</td>\n",
       "      <td>West US</td>\n",
       "      <td>Small</td>\n",
       "      <td>Gates 70-90</td>\n",
       "      <td>107.0</td>\n",
       "      <td>293.0</td>\n",
       "      <td>Clean</td>\n",
       "      <td>Very safe</td>\n",
       "    </tr>\n",
       "    <tr>\n",
       "      <th>13</th>\n",
       "      <td>Saturday</td>\n",
       "      <td>INTERJET</td>\n",
       "      <td>GUADALAJARA</td>\n",
       "      <td>Canada/Mexico</td>\n",
       "      <td>Medium</td>\n",
       "      <td>Gates 1-12</td>\n",
       "      <td>155.0</td>\n",
       "      <td>137.0</td>\n",
       "      <td>Somewhat clean</td>\n",
       "      <td>Somewhat safe</td>\n",
       "    </tr>\n",
       "    <tr>\n",
       "      <th>14</th>\n",
       "      <td>Tuesday</td>\n",
       "      <td>DELTA</td>\n",
       "      <td>MINNEAPOLIS-ST. PAUL</td>\n",
       "      <td>Midwest US</td>\n",
       "      <td>Hub</td>\n",
       "      <td>Gates 40-48</td>\n",
       "      <td>155.0</td>\n",
       "      <td>NaN</td>\n",
       "      <td>Somewhat clean</td>\n",
       "      <td>Somewhat safe</td>\n",
       "    </tr>\n",
       "    <tr>\n",
       "      <th>15</th>\n",
       "      <td>Friday</td>\n",
       "      <td>ALASKA</td>\n",
       "      <td>LOS ANGELES</td>\n",
       "      <td>West US</td>\n",
       "      <td>Hub</td>\n",
       "      <td>Gates 50-59</td>\n",
       "      <td>175.0</td>\n",
       "      <td>NaN</td>\n",
       "      <td>Somewhat clean</td>\n",
       "      <td>Neutral</td>\n",
       "    </tr>\n",
       "    <tr>\n",
       "      <th>16</th>\n",
       "      <td>Tuesday</td>\n",
       "      <td>ALASKA</td>\n",
       "      <td>NEW YORK-JFK</td>\n",
       "      <td>EAST US</td>\n",
       "      <td>Hub</td>\n",
       "      <td>Gates 50-59</td>\n",
       "      <td>100.0</td>\n",
       "      <td>NaN</td>\n",
       "      <td>Clean</td>\n",
       "      <td>Very safe</td>\n",
       "    </tr>\n",
       "    <tr>\n",
       "      <th>17</th>\n",
       "      <td>Friday</td>\n",
       "      <td>TURKISH AIRLINES</td>\n",
       "      <td>ISTANBUL</td>\n",
       "      <td>Middle East</td>\n",
       "      <td>Hub</td>\n",
       "      <td>Gates 91-102</td>\n",
       "      <td>225.0</td>\n",
       "      <td>NaN</td>\n",
       "      <td>Clean</td>\n",
       "      <td>Very safe</td>\n",
       "    </tr>\n",
       "    <tr>\n",
       "      <th>18</th>\n",
       "      <td>Sunday</td>\n",
       "      <td>ALASKA</td>\n",
       "      <td>BALTIMORE</td>\n",
       "      <td>East US</td>\n",
       "      <td>Medium</td>\n",
       "      <td>Gates 50-59</td>\n",
       "      <td>155.0</td>\n",
       "      <td>215.0</td>\n",
       "      <td>Clean</td>\n",
       "      <td>Very safe</td>\n",
       "    </tr>\n",
       "    <tr>\n",
       "      <th>19</th>\n",
       "      <td>Thursday</td>\n",
       "      <td>AIR CANADA</td>\n",
       "      <td>TORONTO</td>\n",
       "      <td>Canada/Mexico</td>\n",
       "      <td>Hub</td>\n",
       "      <td>Gates 91-102</td>\n",
       "      <td>115.0</td>\n",
       "      <td>261.0</td>\n",
       "      <td>Average</td>\n",
       "      <td>Neutral</td>\n",
       "    </tr>\n",
       "  </tbody>\n",
       "</table>\n",
       "</div>"
      ],
      "text/plain": [
       "          day           airline           destination    dest_region  \\\n",
       "0     Tuesday       UNITED INTL                KANSAI           Asia   \n",
       "1      Friday            ALASKA     SAN JOSE DEL CABO  Canada/Mexico   \n",
       "2    Thursday             DELTA           LOS ANGELES        West US   \n",
       "3     Tuesday         SOUTHWEST           LOS ANGELES        West US   \n",
       "4   Wednesday          AMERICAN                 MIAMI        East US   \n",
       "5    Thursday            ALASKA                NEWARK        East US   \n",
       "6    Saturday           JETBLUE            LONG BEACH        West US   \n",
       "7    Saturday        AEROMEXICO           MEXICO CITY  Canada/Mexico   \n",
       "8      Friday        AIR CANADA               TORONTO  Canada/Mexico   \n",
       "9     Tuesday            UNITED              PORTLAND        West US   \n",
       "10    Tuesday         SOUTHWEST             SAN DIEGO        West US   \n",
       "11   Saturday           JETBLUE                BOSTON        East US   \n",
       "12    Tuesday            UNITED               SPOKANE        West US   \n",
       "13   Saturday          INTERJET           GUADALAJARA  Canada/Mexico   \n",
       "14    Tuesday             DELTA  MINNEAPOLIS-ST. PAUL     Midwest US   \n",
       "15     Friday            ALASKA           LOS ANGELES        West US   \n",
       "16    Tuesday            ALASKA          NEW YORK-JFK        EAST US   \n",
       "17     Friday  TURKISH AIRLINES              ISTANBUL    Middle East   \n",
       "18     Sunday            ALASKA             BALTIMORE        East US   \n",
       "19   Thursday        AIR CANADA               TORONTO  Canada/Mexico   \n",
       "\n",
       "   dest_size boarding_area  wait_min  no_pass     cleanliness         safety  \n",
       "0        Hub  Gates 91-102     115.0    123.0           Clean        Neutral  \n",
       "1      Small   Gates 50-59     135.0    177.0           Clean      Very safe  \n",
       "2        Hub   Gates 40-48      70.0    282.0         Average  Somewhat safe  \n",
       "3        Hub   Gates 20-39     190.0    126.0           Clean      Very safe  \n",
       "4        Hub   Gates 50-59     559.0    142.0  Somewhat clean      Very safe  \n",
       "5        Hub   Gates 50-59     140.0    193.0  Somewhat clean      Very safe  \n",
       "6      Small    Gates 1-12      63.0    256.0           Clean      Very safe  \n",
       "7        Hub    Gates 1-12     215.0    156.0  Somewhat clean      Very safe  \n",
       "8        Hub  Gates 91-102      70.0    141.0  Somewhat clean  Somewhat safe  \n",
       "9     Medium   Gates 70-90     180.0    198.0         Average      Very safe  \n",
       "10    Medium   Gates 20-39     540.0    142.0           Clean      Very safe  \n",
       "11     Large    Gates 1-12     192.0    249.0  Somewhat clean      Very safe  \n",
       "12     Small   Gates 70-90     107.0    293.0           Clean      Very safe  \n",
       "13    Medium    Gates 1-12     155.0    137.0  Somewhat clean  Somewhat safe  \n",
       "14       Hub   Gates 40-48     155.0      NaN  Somewhat clean  Somewhat safe  \n",
       "15       Hub   Gates 50-59     175.0      NaN  Somewhat clean        Neutral  \n",
       "16       Hub   Gates 50-59     100.0      NaN           Clean      Very safe  \n",
       "17       Hub  Gates 91-102     225.0      NaN           Clean      Very safe  \n",
       "18    Medium   Gates 50-59     155.0    215.0           Clean      Very safe  \n",
       "19       Hub  Gates 91-102     115.0    261.0         Average        Neutral  "
      ]
     },
     "execution_count": 11,
     "metadata": {},
     "output_type": "execute_result"
    }
   ],
   "source": [
    "X.head(20)"
   ]
  },
  {
   "cell_type": "markdown",
   "metadata": {},
   "source": [
    "Niektóre kolumny mogą wymagać czyszczenia (widać np. pewne niespójności w dest_region)."
   ]
  },
  {
   "cell_type": "code",
   "execution_count": 12,
   "metadata": {},
   "outputs": [],
   "source": [
    "def unique_and_counts(df,column):\n",
    "    print(df[column].unique())\n",
    "    print('')\n",
    "    print(df[column].value_counts())  "
   ]
  },
  {
   "cell_type": "code",
   "execution_count": 13,
   "metadata": {},
   "outputs": [
    {
     "name": "stdout",
     "output_type": "stream",
     "text": [
      "['Asia' 'Canada/Mexico' 'West US' 'East US' 'Midwest US' 'EAST US'\n",
      " 'Middle East' 'Europe' 'eur' 'Central/South America'\n",
      " 'Australia/New Zealand' 'middle east']\n",
      "\n",
      "West US                  864\n",
      "East US                  367\n",
      "Europe                   272\n",
      "Midwest US               251\n",
      "Asia                     226\n",
      "Canada/Mexico            198\n",
      "eur                       79\n",
      "EAST US                   69\n",
      "Australia/New Zealand     60\n",
      "Middle East               48\n",
      "Central/South America     22\n",
      "middle east               21\n",
      "Name: dest_region, dtype: int64\n"
     ]
    }
   ],
   "source": [
    "unique_and_counts(X,'dest_region')# Pozbywamy się niespójności"
   ]
  },
  {
   "cell_type": "code",
   "execution_count": 14,
   "metadata": {
    "scrolled": true
   },
   "outputs": [
    {
     "name": "stdout",
     "output_type": "stream",
     "text": [
      "['Asia' 'Canada/Mexico' 'West US' 'East US' 'Midwest US' 'Middle East'\n",
      " 'Europe' 'Central/South America' 'Australia/New Zealand']\n",
      "\n",
      "West US                  864\n",
      "East US                  436\n",
      "Europe                   351\n",
      "Midwest US               251\n",
      "Asia                     226\n",
      "Canada/Mexico            198\n",
      "Middle East               69\n",
      "Australia/New Zealand     60\n",
      "Central/South America     22\n",
      "Name: dest_region, dtype: int64\n"
     ]
    }
   ],
   "source": [
    "X['dest_region'].replace(['EAST US','eur','middle east'],['East US','Europe','Middle East'],inplace=True)\n",
    "unique_and_counts(X,'dest_region') #Teraz wygląda w porządku"
   ]
  },
  {
   "cell_type": "markdown",
   "metadata": {},
   "source": [
    "dest_size również wymaga obróbki"
   ]
  },
  {
   "cell_type": "code",
   "execution_count": 15,
   "metadata": {},
   "outputs": [
    {
     "name": "stdout",
     "output_type": "stream",
     "text": [
      "['Hub' 'Small' '    Hub' 'Medium' 'Large' 'Hub     ' '    Small'\n",
      " 'Medium     ' '    Medium' 'Small     ' '    Large' 'Large     ']\n",
      "\n",
      "Hub            1202\n",
      "Medium          457\n",
      "    Hub         226\n",
      "Small           165\n",
      "Hub             122\n",
      "Large           110\n",
      "    Medium       97\n",
      "Medium           46\n",
      "    Small        20\n",
      "Small            15\n",
      "    Large        11\n",
      "Large             6\n",
      "Name: dest_size, dtype: int64\n"
     ]
    }
   ],
   "source": [
    "unique_and_counts(X,'dest_size')"
   ]
  },
  {
   "cell_type": "code",
   "execution_count": 16,
   "metadata": {},
   "outputs": [
    {
     "name": "stdout",
     "output_type": "stream",
     "text": [
      "['Hub' 'Small' 'Medium' 'Large']\n",
      "\n",
      "Hub       1550\n",
      "Medium     600\n",
      "Small      200\n",
      "Large      127\n",
      "Name: dest_size, dtype: int64\n"
     ]
    }
   ],
   "source": [
    "X['dest_size'] = X['dest_size'].str.strip()\n",
    "unique_and_counts(X,'dest_size')"
   ]
  },
  {
   "cell_type": "code",
   "execution_count": 17,
   "metadata": {},
   "outputs": [
    {
     "name": "stdout",
     "output_type": "stream",
     "text": [
      "['Tuesday' 'Friday' 'Thursday' 'Wednesday' 'Saturday' 'Sunday' 'Monday']\n",
      "\n",
      "Tuesday      535\n",
      "Wednesday    518\n",
      "Thursday     488\n",
      "Friday       368\n",
      "Sunday       267\n",
      "Saturday     210\n",
      "Monday        91\n",
      "Name: day, dtype: int64\n"
     ]
    }
   ],
   "source": [
    "unique_and_counts(X,'day')"
   ]
  },
  {
   "cell_type": "code",
   "execution_count": 18,
   "metadata": {},
   "outputs": [
    {
     "name": "stdout",
     "output_type": "stream",
     "text": [
      "['UNITED INTL' 'ALASKA' 'DELTA' 'SOUTHWEST' 'AMERICAN' 'JETBLUE'\n",
      " 'AEROMEXICO' 'AIR CANADA' 'UNITED' 'INTERJET' 'TURKISH AIRLINES'\n",
      " 'AIR FRANCE/KLM' 'HAWAIIAN AIR' 'COPA' 'WOW' 'KOREAN AIR' 'EMIRATES'\n",
      " 'AVIANCA' 'AER LINGUS' 'CATHAY PACIFIC' 'BRITISH AIRWAYS'\n",
      " 'PHILIPPINE AIRLINES' 'LUFTHANSA' 'QANTAS' 'FRONTIER' 'CHINA EASTERN'\n",
      " 'EVA AIR' 'VIRGIN ATLANTIC' 'AIR NEW ZEALAND' 'SINGAPORE AIRLINES'\n",
      " 'AIR CHINA' 'CHINA SOUTHERN' 'ANA ALL NIPPON']\n",
      "\n",
      "UNITED                 526\n",
      "ALASKA                 315\n",
      "SOUTHWEST              184\n",
      "AMERICAN               175\n",
      "DELTA                  170\n",
      "UNITED INTL            155\n",
      "JETBLUE                144\n",
      "AIR CANADA             133\n",
      "AIR FRANCE/KLM         120\n",
      "CATHAY PACIFIC          81\n",
      "LUFTHANSA               64\n",
      "FRONTIER                41\n",
      "EMIRATES                39\n",
      "WOW                     38\n",
      "VIRGIN ATLANTIC         32\n",
      "TURKISH AIRLINES        30\n",
      "QANTAS                  28\n",
      "AIR NEW ZEALAND         21\n",
      "BRITISH AIRWAYS         21\n",
      "INTERJET                18\n",
      "AER LINGUS              18\n",
      "SINGAPORE AIRLINES      16\n",
      "COPA                    16\n",
      "PHILIPPINE AIRLINES     14\n",
      "CHINA EASTERN           13\n",
      "HAWAIIAN AIR            12\n",
      "KOREAN AIR              12\n",
      "AEROMEXICO              11\n",
      "EVA AIR                 10\n",
      "AIR CHINA                8\n",
      "AVIANCA                  6\n",
      "CHINA SOUTHERN           4\n",
      "ANA ALL NIPPON           2\n",
      "Name: airline, dtype: int64\n"
     ]
    }
   ],
   "source": [
    "unique_and_counts(X,'airline')"
   ]
  },
  {
   "cell_type": "code",
   "execution_count": 19,
   "metadata": {},
   "outputs": [
    {
     "data": {
      "text/plain": [
       "<AxesSubplot:xlabel='count', ylabel='airline'>"
      ]
     },
     "execution_count": 19,
     "metadata": {},
     "output_type": "execute_result"
    },
    {
     "data": {
      "image/png": "[encoded data removed]",
      "text/plain": [
       "<Figure size 432x1440 with 1 Axes>"
      ]
     },
     "metadata": {
      "needs_background": "light"
     },
     "output_type": "display_data"
    }
   ],
   "source": [
    "plt.figure(figsize=(6,20))\n",
    "sns.countplot(data=X,y='airline',order = X['airline'].value_counts().index,hue=y)"
   ]
  },
  {
   "cell_type": "markdown",
   "metadata": {},
   "source": [
    "Nie widzę dużej zależności między częstością korzystania z konkretnej linii lotniczej a satysfakcją, więc tworzę bucket 'Other', aby zmniejszyć liczbę kategorii."
   ]
  },
  {
   "cell_type": "code",
   "execution_count": 20,
   "metadata": {},
   "outputs": [
    {
     "data": {
      "text/plain": [
       "UNITED              526\n",
       "ALASKA              315\n",
       "Other               202\n",
       "SOUTHWEST           184\n",
       "AMERICAN            175\n",
       "DELTA               170\n",
       "UNITED INTL         155\n",
       "JETBLUE             144\n",
       "AIR CANADA          133\n",
       "AIR FRANCE/KLM      120\n",
       "CATHAY PACIFIC       81\n",
       "LUFTHANSA            64\n",
       "FRONTIER             41\n",
       "EMIRATES             39\n",
       "WOW                  38\n",
       "VIRGIN ATLANTIC      32\n",
       "TURKISH AIRLINES     30\n",
       "QANTAS               28\n",
       "Name: airline, dtype: int64"
      ]
     },
     "execution_count": 20,
     "metadata": {},
     "output_type": "execute_result"
    }
   ],
   "source": [
    "X['airline'] = [x if X['airline'].value_counts()[x] > 25 else 'Other' for x in X['airline']]\n",
    "X['airline'].value_counts()"
   ]
  },
  {
   "cell_type": "code",
   "execution_count": 21,
   "metadata": {},
   "outputs": [
    {
     "name": "stdout",
     "output_type": "stream",
     "text": [
      "['KANSAI' 'SAN JOSE DEL CABO' 'LOS ANGELES' 'MIAMI' 'NEWARK' 'LONG BEACH'\n",
      " 'MEXICO CITY' 'TORONTO' 'PORTLAND' 'SAN DIEGO' 'BOSTON' 'SPOKANE'\n",
      " 'GUADALAJARA' 'MINNEAPOLIS-ST. PAUL' 'NEW YORK-JFK' 'ISTANBUL'\n",
      " 'BALTIMORE' 'LAS VEGAS' 'SHANGHAI' 'TOKYO-NARITA' 'PARIS-DE GAULLE'\n",
      " 'HONOLULU' 'DALLAS-FT. WORTH' 'PANAMA CITY' 'PHOENIX' 'REYKJAVIK'\n",
      " 'SAN ANTONIO' 'HONG KONG' 'SEOUL' 'DUBAI' \"CHICAGO-O'HARE\" 'INDIANAPOLIS'\n",
      " 'SAN SALVADOR' 'SALT LAKE CITY' 'BEIJING' 'DUBLIN' 'WASHINGTON DC-DULLES'\n",
      " 'LONDON HEATHROW' 'MANILA' 'RALEIGH-DURHAM' 'VANCOUVER' 'MUNICH'\n",
      " 'NEW ORLEANS' 'FRANKFURT' 'SYDNEY' 'KAHULUI' 'AMSTERDAM' 'ATLANTA'\n",
      " 'SEATTLE' 'DETROIT' 'SANTA BARBARA' 'PHILADELPHIA' 'DENVER' 'BAKERSFIELD'\n",
      " 'AUSTIN' 'CALGARY' 'TAIPEI' 'ONTARIO (CALIF)' 'BURBANK' 'CHARLOTTE'\n",
      " 'AUCKLAND' 'SINGAPORE' 'ORLANDO' 'NASHVILLE' 'WUHAN' 'HOUSTON-BUSH'\n",
      " 'FT. LAUDERDALE' 'SANTA ANA' 'EUGENE' 'KANSAS CITY' 'QINGDAO'\n",
      " 'PUERTO VALLARTA']\n",
      "\n",
      "LOS ANGELES        185\n",
      "PARIS-DE GAULLE    126\n",
      "DENVER              96\n",
      "HONG KONG           95\n",
      "LONDON HEATHROW     91\n",
      "                  ... \n",
      "WUHAN                4\n",
      "ONTARIO (CALIF)      3\n",
      "NEW ORLEANS          3\n",
      "QINGDAO              3\n",
      "EUGENE               1\n",
      "Name: destination, Length: 72, dtype: int64\n"
     ]
    }
   ],
   "source": [
    "unique_and_counts(X,'destination')"
   ]
  },
  {
   "cell_type": "code",
   "execution_count": 22,
   "metadata": {},
   "outputs": [
    {
     "data": {
      "text/plain": [
       "<AxesSubplot:xlabel='count', ylabel='destination'>"
      ]
     },
     "execution_count": 22,
     "metadata": {},
     "output_type": "execute_result"
    },
    {
     "data": {
      "image/png": "[encoded data removed]",
      "text/plain": [
       "<Figure size 432x1440 with 1 Axes>"
      ]
     },
     "metadata": {
      "needs_background": "light"
     },
     "output_type": "display_data"
    }
   ],
   "source": [
    "plt.figure(figsize=(6,20))\n",
    "sns.countplot(data=X,y='destination',order = X['destination'].value_counts().index,hue=y)"
   ]
  },
  {
   "cell_type": "markdown",
   "metadata": {},
   "source": [
    "Podobnie tutaj tworzę bucket Other dla rzadkich wystąpień."
   ]
  },
  {
   "cell_type": "code",
   "execution_count": 23,
   "metadata": {},
   "outputs": [
    {
     "data": {
      "text/plain": [
       "LOS ANGELES             185\n",
       "PARIS-DE GAULLE         126\n",
       "Other                   117\n",
       "DENVER                   96\n",
       "HONG KONG                95\n",
       "LONDON HEATHROW          91\n",
       "SAN DIEGO                86\n",
       "NEW YORK-JFK             80\n",
       "CHICAGO-O'HARE           77\n",
       "NEWARK                   76\n",
       "LAS VEGAS                75\n",
       "SEATTLE                  74\n",
       "BOSTON                   71\n",
       "PORTLAND                 70\n",
       "TORONTO                  68\n",
       "LONG BEACH               56\n",
       "MUNICH                   56\n",
       "PHOENIX                  50\n",
       "RALEIGH-DURHAM           49\n",
       "SALT LAKE CITY           44\n",
       "HONOLULU                 41\n",
       "VANCOUVER                39\n",
       "SYDNEY                   39\n",
       "DUBAI                    39\n",
       "DALLAS-FT. WORTH         39\n",
       "REYKJAVIK                38\n",
       "WASHINGTON DC-DULLES     38\n",
       "BALTIMORE                36\n",
       "AUSTIN                   31\n",
       "ISTANBUL                 30\n",
       "MINNEAPOLIS-ST. PAUL     29\n",
       "SHANGHAI                 29\n",
       "KAHULUI                  27\n",
       "CALGARY                  26\n",
       "MEXICO CITY              24\n",
       "INDIANAPOLIS             22\n",
       "AUCKLAND                 21\n",
       "ATLANTA                  19\n",
       "BURBANK                  19\n",
       "BEIJING                  19\n",
       "GUADALAJARA              18\n",
       "DUBLIN                   18\n",
       "MIAMI                    18\n",
       "SAN JOSE DEL CABO        17\n",
       "SINGAPORE                16\n",
       "NASHVILLE                16\n",
       "PANAMA CITY              16\n",
       "SPOKANE                  16\n",
       "PHILADELPHIA             15\n",
       "CHARLOTTE                15\n",
       "FRANKFURT                14\n",
       "MANILA                   14\n",
       "KANSAI                   14\n",
       "SEOUL                    12\n",
       "FT. LAUDERDALE           11\n",
       "Name: destination, dtype: int64"
      ]
     },
     "execution_count": 23,
     "metadata": {},
     "output_type": "execute_result"
    }
   ],
   "source": [
    "X['destination'] = [x if X['destination'].value_counts()[x] > 10 else 'Other' for x in X['destination']]\n",
    "X['destination'].value_counts()"
   ]
  },
  {
   "cell_type": "code",
   "execution_count": 24,
   "metadata": {
    "scrolled": true
   },
   "outputs": [
    {
     "name": "stdout",
     "output_type": "stream",
     "text": [
      "['Gates 91-102' 'Gates 50-59' 'Gates 40-48' 'Gates 20-39' 'Gates 1-12'\n",
      " 'Gates 70-90' 'Gates 60-69']\n",
      "\n",
      "Gates 1-12      609\n",
      "Gates 91-102    474\n",
      "Gates 50-59     467\n",
      "Gates 70-90     383\n",
      "Gates 20-39     225\n",
      "Gates 40-48     176\n",
      "Gates 60-69     143\n",
      "Name: boarding_area, dtype: int64\n"
     ]
    }
   ],
   "source": [
    "unique_and_counts(X,'boarding_area')"
   ]
  },
  {
   "cell_type": "code",
   "execution_count": 25,
   "metadata": {
    "scrolled": true
   },
   "outputs": [
    {
     "name": "stdout",
     "output_type": "stream",
     "text": [
      "['Clean' 'Average' 'Somewhat clean' 'Somewhat dirty' 'Dirty']\n",
      "\n",
      "Somewhat clean    1175\n",
      "Clean              885\n",
      "Average            389\n",
      "Somewhat dirty      26\n",
      "Dirty                2\n",
      "Name: cleanliness, dtype: int64\n"
     ]
    }
   ],
   "source": [
    "unique_and_counts(X,'cleanliness')"
   ]
  },
  {
   "cell_type": "markdown",
   "metadata": {},
   "source": [
    "Czystość ma bardzo duże znaczenie dla satysfakcji klienta."
   ]
  },
  {
   "cell_type": "code",
   "execution_count": 26,
   "metadata": {},
   "outputs": [
    {
     "data": {
      "text/plain": [
       "<AxesSubplot:xlabel='count', ylabel='cleanliness'>"
      ]
     },
     "execution_count": 26,
     "metadata": {},
     "output_type": "execute_result"
    },
    {
     "data": {
      "image/png": "[encoded data removed]",
      "text/plain": [
       "<Figure size 720x432 with 1 Axes>"
      ]
     },
     "metadata": {
      "needs_background": "light"
     },
     "output_type": "display_data"
    }
   ],
   "source": [
    "plt.figure(figsize=(10,6))\n",
    "sns.countplot(data=X,y='cleanliness',order = X['cleanliness'].value_counts().index,hue=y)"
   ]
  },
  {
   "cell_type": "code",
   "execution_count": 27,
   "metadata": {},
   "outputs": [
    {
     "name": "stdout",
     "output_type": "stream",
     "text": [
      "['Neutral' 'Very safe' 'Somewhat safe' 'Very unsafe' 'Somewhat unsafe']\n",
      "\n",
      "Very safe          1296\n",
      "Somewhat safe       864\n",
      "Neutral             303\n",
      "Very unsafe           8\n",
      "Somewhat unsafe       6\n",
      "Name: safety, dtype: int64\n"
     ]
    }
   ],
   "source": [
    "unique_and_counts(X,'safety')"
   ]
  },
  {
   "cell_type": "markdown",
   "metadata": {},
   "source": [
    "Również bezpieczeństwo ma duży wpływ na satysfakcję."
   ]
  },
  {
   "cell_type": "code",
   "execution_count": 28,
   "metadata": {
    "scrolled": true
   },
   "outputs": [
    {
     "data": {
      "text/plain": [
       "<AxesSubplot:xlabel='count', ylabel='safety'>"
      ]
     },
     "execution_count": 28,
     "metadata": {},
     "output_type": "execute_result"
    },
    {
     "data": {
      "image/png": "[encoded data removed]",
      "text/plain": [
       "<Figure size 720x432 with 1 Axes>"
      ]
     },
     "metadata": {
      "needs_background": "light"
     },
     "output_type": "display_data"
    }
   ],
   "source": [
    "plt.figure(figsize=(10,6))\n",
    "sns.countplot(data=X,y='safety',order = X['safety'].value_counts().index,hue=y)"
   ]
  },
  {
   "cell_type": "markdown",
   "metadata": {},
   "source": [
    "#### Widać delikatne przesunięcie - im więcej pasażerów, tym większa szansa na brak satysfakcji"
   ]
  },
  {
   "cell_type": "code",
   "execution_count": 29,
   "metadata": {},
   "outputs": [
    {
     "data": {
      "text/plain": [
       "<matplotlib.legend.Legend at 0x26b8d0c9940>"
      ]
     },
     "execution_count": 29,
     "metadata": {},
     "output_type": "execute_result"
    },
    {
     "data": {
      "image/png": "[encoded data removed]",
      "text/plain": [
       "<Figure size 432x288 with 1 Axes>"
      ]
     },
     "metadata": {
      "needs_background": "light"
     },
     "output_type": "display_data"
    }
   ],
   "source": [
    "sns.kdeplot(x=list(X['no_pass'][y==0]),label='Unsatisfied',shade=True)\n",
    "sns.kdeplot(x=list(X['no_pass'][y==1]),label='Satisfied',shade=True)\n",
    "plt.legend()"
   ]
  },
  {
   "cell_type": "markdown",
   "metadata": {},
   "source": [
    "#### Tutaj aż takiej różnicy nie widać (czas oczekiwania w bramce)"
   ]
  },
  {
   "cell_type": "code",
   "execution_count": 30,
   "metadata": {
    "scrolled": true
   },
   "outputs": [
    {
     "data": {
      "text/plain": [
       "<matplotlib.legend.Legend at 0x26b8d0c9670>"
      ]
     },
     "execution_count": 30,
     "metadata": {},
     "output_type": "execute_result"
    },
    {
     "data": {
      "image/png": "[encoded data removed]",
      "text/plain": [
       "<Figure size 432x288 with 1 Axes>"
      ]
     },
     "metadata": {
      "needs_background": "light"
     },
     "output_type": "display_data"
    }
   ],
   "source": [
    "sns.kdeplot(x=list(X['wait_min'][y==0]),label='Unsatisfied',shade=True)\n",
    "sns.kdeplot(x=list(X['wait_min'][y==1]),label='Satisfied',shade=True)\n",
    "plt.legend()"
   ]
  },
  {
   "cell_type": "markdown",
   "metadata": {},
   "source": [
    "### Dummizuję zmienne kategoryczne"
   ]
  },
  {
   "cell_type": "code",
   "execution_count": 31,
   "metadata": {},
   "outputs": [],
   "source": [
    "# Tworzymy listę zmiennych do zdummizowania\n",
    "to_dummy = ['day','airline','destination','dest_region','dest_size','boarding_area','cleanliness','safety']\n",
    "\n",
    "# Zamieniamy kolumny kategoryczne na zdummizowane\n",
    "def dummy_df(df, to_dummy):\n",
    "    for x in to_dummy:\n",
    "        dummies = pd.get_dummies(df[x], prefix=x, dummy_na=False)\n",
    "        df = df.drop(x, 1)\n",
    "        df = pd.concat([df, dummies], axis=1)\n",
    "    return df\n",
    "\n",
    "# Wywołujemy tę funkcję wyżej\n",
    "X = dummy_df(X, to_dummy)"
   ]
  },
  {
   "cell_type": "code",
   "execution_count": 32,
   "metadata": {},
   "outputs": [
    {
     "data": {
      "text/html": [
       "<div>\n",
       "<style scoped>\n",
       "    .dataframe tbody tr th:only-of-type {\n",
       "        vertical-align: middle;\n",
       "    }\n",
       "\n",
       "    .dataframe tbody tr th {\n",
       "        vertical-align: top;\n",
       "    }\n",
       "\n",
       "    .dataframe thead th {\n",
       "        text-align: right;\n",
       "    }\n",
       "</style>\n",
       "<table border=\"1\" class=\"dataframe\">\n",
       "  <thead>\n",
       "    <tr style=\"text-align: right;\">\n",
       "      <th></th>\n",
       "      <th>wait_min</th>\n",
       "      <th>no_pass</th>\n",
       "      <th>day_Friday</th>\n",
       "      <th>day_Monday</th>\n",
       "      <th>day_Saturday</th>\n",
       "      <th>day_Sunday</th>\n",
       "      <th>day_Thursday</th>\n",
       "      <th>day_Tuesday</th>\n",
       "      <th>day_Wednesday</th>\n",
       "      <th>airline_AIR CANADA</th>\n",
       "      <th>...</th>\n",
       "      <th>cleanliness_Average</th>\n",
       "      <th>cleanliness_Clean</th>\n",
       "      <th>cleanliness_Dirty</th>\n",
       "      <th>cleanliness_Somewhat clean</th>\n",
       "      <th>cleanliness_Somewhat dirty</th>\n",
       "      <th>safety_Neutral</th>\n",
       "      <th>safety_Somewhat safe</th>\n",
       "      <th>safety_Somewhat unsafe</th>\n",
       "      <th>safety_Very safe</th>\n",
       "      <th>safety_Very unsafe</th>\n",
       "    </tr>\n",
       "  </thead>\n",
       "  <tbody>\n",
       "    <tr>\n",
       "      <th>0</th>\n",
       "      <td>115.0</td>\n",
       "      <td>123.0</td>\n",
       "      <td>0</td>\n",
       "      <td>0</td>\n",
       "      <td>0</td>\n",
       "      <td>0</td>\n",
       "      <td>0</td>\n",
       "      <td>1</td>\n",
       "      <td>0</td>\n",
       "      <td>0</td>\n",
       "      <td>...</td>\n",
       "      <td>0</td>\n",
       "      <td>1</td>\n",
       "      <td>0</td>\n",
       "      <td>0</td>\n",
       "      <td>0</td>\n",
       "      <td>1</td>\n",
       "      <td>0</td>\n",
       "      <td>0</td>\n",
       "      <td>0</td>\n",
       "      <td>0</td>\n",
       "    </tr>\n",
       "    <tr>\n",
       "      <th>1</th>\n",
       "      <td>135.0</td>\n",
       "      <td>177.0</td>\n",
       "      <td>1</td>\n",
       "      <td>0</td>\n",
       "      <td>0</td>\n",
       "      <td>0</td>\n",
       "      <td>0</td>\n",
       "      <td>0</td>\n",
       "      <td>0</td>\n",
       "      <td>0</td>\n",
       "      <td>...</td>\n",
       "      <td>0</td>\n",
       "      <td>1</td>\n",
       "      <td>0</td>\n",
       "      <td>0</td>\n",
       "      <td>0</td>\n",
       "      <td>0</td>\n",
       "      <td>0</td>\n",
       "      <td>0</td>\n",
       "      <td>1</td>\n",
       "      <td>0</td>\n",
       "    </tr>\n",
       "    <tr>\n",
       "      <th>2</th>\n",
       "      <td>70.0</td>\n",
       "      <td>282.0</td>\n",
       "      <td>0</td>\n",
       "      <td>0</td>\n",
       "      <td>0</td>\n",
       "      <td>0</td>\n",
       "      <td>1</td>\n",
       "      <td>0</td>\n",
       "      <td>0</td>\n",
       "      <td>0</td>\n",
       "      <td>...</td>\n",
       "      <td>1</td>\n",
       "      <td>0</td>\n",
       "      <td>0</td>\n",
       "      <td>0</td>\n",
       "      <td>0</td>\n",
       "      <td>0</td>\n",
       "      <td>1</td>\n",
       "      <td>0</td>\n",
       "      <td>0</td>\n",
       "      <td>0</td>\n",
       "    </tr>\n",
       "    <tr>\n",
       "      <th>3</th>\n",
       "      <td>190.0</td>\n",
       "      <td>126.0</td>\n",
       "      <td>0</td>\n",
       "      <td>0</td>\n",
       "      <td>0</td>\n",
       "      <td>0</td>\n",
       "      <td>0</td>\n",
       "      <td>1</td>\n",
       "      <td>0</td>\n",
       "      <td>0</td>\n",
       "      <td>...</td>\n",
       "      <td>0</td>\n",
       "      <td>1</td>\n",
       "      <td>0</td>\n",
       "      <td>0</td>\n",
       "      <td>0</td>\n",
       "      <td>0</td>\n",
       "      <td>0</td>\n",
       "      <td>0</td>\n",
       "      <td>1</td>\n",
       "      <td>0</td>\n",
       "    </tr>\n",
       "    <tr>\n",
       "      <th>4</th>\n",
       "      <td>559.0</td>\n",
       "      <td>142.0</td>\n",
       "      <td>0</td>\n",
       "      <td>0</td>\n",
       "      <td>0</td>\n",
       "      <td>0</td>\n",
       "      <td>0</td>\n",
       "      <td>0</td>\n",
       "      <td>1</td>\n",
       "      <td>0</td>\n",
       "      <td>...</td>\n",
       "      <td>0</td>\n",
       "      <td>0</td>\n",
       "      <td>0</td>\n",
       "      <td>1</td>\n",
       "      <td>0</td>\n",
       "      <td>0</td>\n",
       "      <td>0</td>\n",
       "      <td>0</td>\n",
       "      <td>1</td>\n",
       "      <td>0</td>\n",
       "    </tr>\n",
       "  </tbody>\n",
       "</table>\n",
       "<p>5 rows × 112 columns</p>\n",
       "</div>"
      ],
      "text/plain": [
       "   wait_min  no_pass  day_Friday  day_Monday  day_Saturday  day_Sunday  \\\n",
       "0     115.0    123.0           0           0             0           0   \n",
       "1     135.0    177.0           1           0             0           0   \n",
       "2      70.0    282.0           0           0             0           0   \n",
       "3     190.0    126.0           0           0             0           0   \n",
       "4     559.0    142.0           0           0             0           0   \n",
       "\n",
       "   day_Thursday  day_Tuesday  day_Wednesday  airline_AIR CANADA  ...  \\\n",
       "0             0            1              0                   0  ...   \n",
       "1             0            0              0                   0  ...   \n",
       "2             1            0              0                   0  ...   \n",
       "3             0            1              0                   0  ...   \n",
       "4             0            0              1                   0  ...   \n",
       "\n",
       "   cleanliness_Average  cleanliness_Clean  cleanliness_Dirty  \\\n",
       "0                    0                  1                  0   \n",
       "1                    0                  1                  0   \n",
       "2                    1                  0                  0   \n",
       "3                    0                  1                  0   \n",
       "4                    0                  0                  0   \n",
       "\n",
       "   cleanliness_Somewhat clean  cleanliness_Somewhat dirty  safety_Neutral  \\\n",
       "0                           0                           0               1   \n",
       "1                           0                           0               0   \n",
       "2                           0                           0               0   \n",
       "3                           0                           0               0   \n",
       "4                           1                           0               0   \n",
       "\n",
       "   safety_Somewhat safe  safety_Somewhat unsafe  safety_Very safe  \\\n",
       "0                     0                       0                 0   \n",
       "1                     0                       0                 1   \n",
       "2                     1                       0                 0   \n",
       "3                     0                       0                 1   \n",
       "4                     0                       0                 1   \n",
       "\n",
       "   safety_Very unsafe  \n",
       "0                   0  \n",
       "1                   0  \n",
       "2                   0  \n",
       "3                   0  \n",
       "4                   0  \n",
       "\n",
       "[5 rows x 112 columns]"
      ]
     },
     "execution_count": 32,
     "metadata": {},
     "output_type": "execute_result"
    }
   ],
   "source": [
    "X.head(5) # Chyba gitarson"
   ]
  },
  {
   "cell_type": "markdown",
   "metadata": {},
   "source": [
    "### Teraz zajmiejmy się brakującymi wartościami"
   ]
  },
  {
   "cell_type": "code",
   "execution_count": 33,
   "metadata": {},
   "outputs": [
    {
     "data": {
      "text/plain": [
       "wait_min                  327\n",
       "no_pass                     4\n",
       "day_Friday                  0\n",
       "day_Monday                  0\n",
       "day_Saturday                0\n",
       "                         ... \n",
       "safety_Neutral              0\n",
       "safety_Somewhat safe        0\n",
       "safety_Somewhat unsafe      0\n",
       "safety_Very safe            0\n",
       "safety_Very unsafe          0\n",
       "Length: 112, dtype: int64"
      ]
     },
     "execution_count": 33,
     "metadata": {},
     "output_type": "execute_result"
    }
   ],
   "source": [
    "X.isnull().sum() #Wygląda na to, że tylko dwie kategorie mają brakujące wartości"
   ]
  },
  {
   "cell_type": "markdown",
   "metadata": {},
   "source": [
    "#### Brakujące no_pass (number of passengers) to zaledwie promil całego datasetu, a brakujące wait_min to ponad 10%.\n",
    "Decyduję się na uzupełnienie w obydwu przypadkach brakujących wartości medianami, są bowiem odporne na ewentualne odstające wartości - takie jak 1210 minut czekania w bramce."
   ]
  },
  {
   "cell_type": "code",
   "execution_count": 34,
   "metadata": {},
   "outputs": [
    {
     "data": {
      "text/plain": [
       "count    2473.000000\n",
       "mean      200.585524\n",
       "std        57.973128\n",
       "min       100.000000\n",
       "25%       150.000000\n",
       "50%       201.000000\n",
       "75%       252.000000\n",
       "max       300.000000\n",
       "Name: no_pass, dtype: float64"
      ]
     },
     "execution_count": 34,
     "metadata": {},
     "output_type": "execute_result"
    }
   ],
   "source": [
    "X['no_pass'].describe()"
   ]
  },
  {
   "cell_type": "code",
   "execution_count": 35,
   "metadata": {},
   "outputs": [],
   "source": [
    "X['no_pass'].fillna(X['no_pass'].median(),inplace=True)"
   ]
  },
  {
   "cell_type": "code",
   "execution_count": 36,
   "metadata": {},
   "outputs": [
    {
     "data": {
      "text/plain": [
       "count    2150.000000\n",
       "mean      166.534865\n",
       "std       107.052209\n",
       "min        15.000000\n",
       "25%       105.000000\n",
       "50%       145.000000\n",
       "75%       190.000000\n",
       "max      1210.000000\n",
       "Name: wait_min, dtype: float64"
      ]
     },
     "execution_count": 36,
     "metadata": {},
     "output_type": "execute_result"
    }
   ],
   "source": [
    "X['wait_min'].describe()"
   ]
  },
  {
   "cell_type": "code",
   "execution_count": 37,
   "metadata": {},
   "outputs": [],
   "source": [
    "X['wait_min'].fillna(X['wait_min'].median(),inplace=True)"
   ]
  },
  {
   "cell_type": "code",
   "execution_count": 38,
   "metadata": {},
   "outputs": [
    {
     "data": {
      "text/plain": [
       "wait_min                  0\n",
       "no_pass                   0\n",
       "day_Friday                0\n",
       "day_Monday                0\n",
       "day_Saturday              0\n",
       "                         ..\n",
       "safety_Neutral            0\n",
       "safety_Somewhat safe      0\n",
       "safety_Somewhat unsafe    0\n",
       "safety_Very safe          0\n",
       "safety_Very unsafe        0\n",
       "Length: 112, dtype: int64"
      ]
     },
     "execution_count": 38,
     "metadata": {},
     "output_type": "execute_result"
    }
   ],
   "source": [
    "X.isnull().sum() # Pozbyliśmy się brakujących wartości niniejszym."
   ]
  },
  {
   "cell_type": "markdown",
   "metadata": {},
   "source": [
    "### Wartości odstające"
   ]
  },
  {
   "cell_type": "code",
   "execution_count": 57,
   "metadata": {},
   "outputs": [
    {
     "data": {
      "text/plain": [
       "<AxesSubplot:>"
      ]
     },
     "execution_count": 57,
     "metadata": {},
     "output_type": "execute_result"
    },
    {
     "data": {
      "image/png": "[encoded data removed]",
      "text/plain": [
       "<Figure size 576x432 with 1 Axes>"
      ]
     },
     "metadata": {
      "needs_background": "light"
     },
     "output_type": "display_data"
    }
   ],
   "source": [
    "plt.figure(figsize=(8,6))\n",
    "sns.boxplot(data=X[['no_pass','wait_min']],orient='h')"
   ]
  },
  {
   "cell_type": "markdown",
   "metadata": {},
   "source": [
    "Jak widać, tylko wait_min ma jakieś wartości odstające.\n",
    "Kwestia błędu w danych nie wydaje mi się wystarczająco prawdopodobna (opóźnienia lotnicze sięgające kilkunastu godzin są możliwością, mimo że rzadką), więc decyduję się zostawić outliery."
   ]
  },
  {
   "cell_type": "markdown",
   "metadata": {},
   "source": [
    "### Podział na train/test"
   ]
  },
  {
   "cell_type": "code",
   "execution_count": 51,
   "metadata": {},
   "outputs": [],
   "source": [
    "from sklearn.model_selection import train_test_split\n",
    "X_train, X_test, y_train, y_test = train_test_split(X, y, train_size=0.80, random_state=42)"
   ]
  },
  {
   "cell_type": "code",
   "execution_count": 52,
   "metadata": {},
   "outputs": [
    {
     "data": {
      "text/plain": [
       "(1981, 112)"
      ]
     },
     "execution_count": 52,
     "metadata": {},
     "output_type": "execute_result"
    }
   ],
   "source": [
    "X_train.shape"
   ]
  },
  {
   "cell_type": "code",
   "execution_count": 53,
   "metadata": {
    "scrolled": true
   },
   "outputs": [
    {
     "data": {
      "text/plain": [
       "(496, 112)"
      ]
     },
     "execution_count": 53,
     "metadata": {},
     "output_type": "execute_result"
    }
   ],
   "source": [
    "X_test.shape"
   ]
  }
 ],
 "metadata": {
  "kernelspec": {
   "display_name": "Python 3 (ipykernel)",
   "language": "python",
   "name": "python3"
  },
  "language_info": {
   "codemirror_mode": {
    "name": "ipython",
    "version": 3
   },
   "file_extension": ".py",
   "mimetype": "text/x-python",
   "name": "python",
   "nbconvert_exporter": "python",
   "pygments_lexer": "ipython3",
   "version": "3.9.7"
  }
 },
 "nbformat": 4,
 "nbformat_minor": 1
}
